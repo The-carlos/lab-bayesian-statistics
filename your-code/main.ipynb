{
 "cells": [
  {
   "cell_type": "markdown",
   "metadata": {},
   "source": [
    "# Intro to Bayesian Statistics Lab\n",
    "\n",
    "Complete the following set of exercises to solidify your knowledge of Bayesian statistics and Bayesian data analysis."
   ]
  },
  {
   "cell_type": "code",
   "execution_count": 1,
   "metadata": {},
   "outputs": [],
   "source": [
    "import pandas as pd\n",
    "import numpy as np\n",
    "import matplotlib.pyplot as plt"
   ]
  },
  {
   "cell_type": "markdown",
   "metadata": {},
   "source": [
    "## 1. Cookie Problem\n",
    "\n",
    "Suppose we have two bowls of cookies. Bowl 1 contains 30 vanilla cookies and 10 chocolate cookies. Bowl 2 contains 20 of each. You randomly pick one cookie out of one of the bowls, and it is vanilla. Use Bayes Theorem to calculate the probability that the vanilla cookie you picked came from Bowl 1?"
   ]
  },
  {
   "cell_type": "code",
   "execution_count": 54,
   "metadata": {},
   "outputs": [],
   "source": [
    "#Como vamos a utilizar la formula de Bayes tooodo el lab, mejor crear una función\n",
    "\n",
    "def bayes(priors, likelihoods):\n",
    "    denominadores = sum(np.multiply(priors, likelihoods))    #Marginal\n",
    "    numeradores = np.multiply(priors, likelihoods)\n",
    "    resultados = np.divide(numeradores, denominadores)                  #Posteriori\n",
    "    return resultados\n"
   ]
  },
  {
   "cell_type": "code",
   "execution_count": 55,
   "metadata": {},
   "outputs": [
    {
     "name": "stdout",
     "output_type": "stream",
     "text": [
      "La probabilidad de que una galleta venga del Bowl 1 dado que es una galleta de vainilla es 60.0%.\n"
     ]
    }
   ],
   "source": [
    "#Ok. Veamos los datos que tenemos y lo que necesitamos encontrar:\n",
    "\n",
    "#P(Bowl1|vanilla_c) = ?\n",
    "\n",
    "#P(Bowl1) = 1/2\n",
    "#P(Bowl2) = 1/2\n",
    "#P(vanilla_c|Bowl1) = 3/4\n",
    "#P(chocolate_c|Bowl1) = 1/4\n",
    "#P(vanilla_c|Bowl2) = 1/2\n",
    "#P(chocolate_c|Bowl2) = 1/2\n",
    "\n",
    "# priors = Probabilidad de bowls \n",
    "# likelihoods = Probas de que la galleta sea de vanilla en cada bowl\n",
    "\n",
    "priors = [1/2, 1/2]\n",
    "likelihoods = [3/4, 1/2]\n",
    "resultados = bayes(priors, likelihoods)\n",
    "print(f'La probabilidad de que una galleta venga del Bowl 1 dado que es una galleta de vainilla es {resultados[0]*100}%.')"
   ]
  },
  {
   "cell_type": "markdown",
   "metadata": {},
   "source": [
    "What is the probability that it came from Bowl 2?"
   ]
  },
  {
   "cell_type": "code",
   "execution_count": 56,
   "metadata": {},
   "outputs": [
    {
     "name": "stdout",
     "output_type": "stream",
     "text": [
      "La probabilidad de que una galleta venga del Bowl 2 dado que es una galleta de vainilla es 40.0%.\n"
     ]
    }
   ],
   "source": [
    "print(f'La probabilidad de que una galleta venga del Bowl 2 dado que es una galleta de vainilla es {resultados[1]*100}%.')"
   ]
  },
  {
   "cell_type": "markdown",
   "metadata": {},
   "source": [
    "What if the cookie you had picked was chocolate? What are the probabilities that the chocolate cookie came from Bowl 1 and Bowl 2 respectively?"
   ]
  },
  {
   "cell_type": "code",
   "execution_count": 57,
   "metadata": {},
   "outputs": [
    {
     "name": "stdout",
     "output_type": "stream",
     "text": [
      "La probabilidad de que una galleta venga del Bowl 1 dado que es una galleta de chocolate es 33.33333333333333%.\n",
      "La probabilidad de que una galleta venga del Bowl 2 dado que es una galleta de chocolate es 66.66666666666666%.\n"
     ]
    }
   ],
   "source": [
    "priors = [1/2, 1/2]\n",
    "likelihoods = [1/4, 1/2]\n",
    "resultados = bayes(priors, likelihoods)\n",
    "\n",
    "print(f'La probabilidad de que una galleta venga del Bowl 1 dado que es una galleta de chocolate es {resultados[0]*100}%.')\n",
    "print(f'La probabilidad de que una galleta venga del Bowl 2 dado que es una galleta de chocolate es {resultados[1]*100}%.')"
   ]
  },
  {
   "cell_type": "markdown",
   "metadata": {},
   "source": [
    "## 2. Candy Problem\n",
    "\n",
    "Suppose you have two bags of candies:\n",
    "\n",
    "- In Bag 1, the mix of colors is:\n",
    "    - Brown - 30%\n",
    "    - Yellow - 20%\n",
    "    - Red - 20%\n",
    "    - Green - 10%\n",
    "    - Orange - 10%\n",
    "    - Tan - 10%\n",
    "    \n",
    "- In Bag 2, the mix of colors is:\n",
    "    - Blue - 24%\n",
    "    - Green - 20%\n",
    "    - Orange - 16%\n",
    "    - Yellow - 14%\n",
    "    - Red - 13%\n",
    "    - Brown - 13%\n",
    "    \n",
    "Not knowing which bag is which, you randomly draw one candy from each bag. One is yellow and one is green. What is the probability that the yellow one came from the Bag 1?\n",
    "\n",
    "*Hint: For the likelihoods, you will need to multiply the probabilities of drawing yellow from one bag and green from the other bag and vice versa.*"
   ]
  },
  {
   "cell_type": "code",
   "execution_count": 58,
   "metadata": {},
   "outputs": [
    {
     "name": "stdout",
     "output_type": "stream",
     "text": [
      "La probabilidad de que un dulce venga del Bag 1 dado que es amarillo es 74.07407407407408%.\n"
     ]
    }
   ],
   "source": [
    "#Ok. Veamos los datos que tenemos y lo que necesitamos encontrar:\n",
    "\n",
    "#P(Bag1|yellow) = ? = [P(yellow|Bag1)*P(Bag1)]/P(Yellow)\n",
    "\n",
    "#P(Bag1) = 1/2\n",
    "#P(bag2) = 1/2\n",
    "\n",
    "#P(brown|Bag1) = 0.3\n",
    "#P(yellow|Bag1) = 0.2\n",
    "#P(red|Bag1) = 0.2\n",
    "#P(green|Bag1) = 0.1\n",
    "#P(orange|Bag1) = 0.1\n",
    "#P(tan|Bag1) = 0.1\n",
    "\n",
    "#P(brown|Bag2) = 0.13\n",
    "#P(yellow|Bag2) = 0.14\n",
    "#P(red|Bag2) = 0.13\n",
    "#P(green|Bag2) = 0.2\n",
    "#P(orange|Bag2) = 0.16\n",
    "#P(blue|Bag2) = 0.24\n",
    "\n",
    "#P(Yellow) = P(yellow|Bag1)*P(Bag1) + P(yellow|Bag2)*P(Bag2)\n",
    "#P(green) = P(green|Bag1)*P(Bag1) + P(green|Bag2)*P(Bag2)\n",
    "\n",
    "\n",
    "\n",
    "priors = [1/2,1/2]\n",
    "likelihoods = [0.2*0.2,0.14*0.1]\n",
    "resultados = bayes(priors, likelihoods)\n",
    "\n",
    "print(f'La probabilidad de que un dulce venga del Bag 1 dado que es amarillo es {resultados[0]*100}%.')"
   ]
  },
  {
   "cell_type": "markdown",
   "metadata": {},
   "source": [
    "What is the probability that the yellow candy came from Bag 2?"
   ]
  },
  {
   "cell_type": "code",
   "execution_count": 59,
   "metadata": {},
   "outputs": [
    {
     "name": "stdout",
     "output_type": "stream",
     "text": [
      "La probabilidad de que un dulce venga del Bag 2 dado que es amarillo es 25.925925925925924%.\n"
     ]
    }
   ],
   "source": [
    "print(f'La probabilidad de que un dulce venga del Bag 2 dado que es amarillo es {resultados[1]*100}%.')"
   ]
  },
  {
   "cell_type": "markdown",
   "metadata": {},
   "source": [
    "What are the probabilities that the green one came from Bag 1 and Bag 2 respectively?"
   ]
  },
  {
   "cell_type": "code",
   "execution_count": 60,
   "metadata": {},
   "outputs": [
    {
     "name": "stdout",
     "output_type": "stream",
     "text": [
      "La probabilidad de que un dulce venga del Bag 1 y la Bag 2 dado que es verde es (25.925925925925924, 74.07407407407408) respectivamente.\n"
     ]
    }
   ],
   "source": [
    "priors = [1/2,1/2]\n",
    "likelihoods = [0.1*0.14,0.2*0.2]\n",
    "resultados = bayes(priors, likelihoods)\n",
    "\n",
    "print(f'La probabilidad de que un dulce venga del Bag 1 y la Bag 2 dado que es verde es {(resultados[0]*100, resultados[1]*100)} respectivamente.')"
   ]
  },
  {
   "cell_type": "markdown",
   "metadata": {},
   "source": [
    "## 3. Monty Hall Problem\n",
    "\n",
    "Suppose you are a contestant on the popular game show *Let's Make a Deal*. The host of the show (Monty Hall) presents you with three doors - Door A, Door B, and Door C. He tells you that there is a sports car behind one of them and if you choose the correct one, you win the car!\n",
    "\n",
    "You select Door A, but then Monty makes things a little more interesting. He opens Door B to reveal that there is no sports car behind it and asks you if you would like to stick with your choice of Door A or switch your choice to Door C. Given this new information, what are the probabilities of you winning the car if you stick with Door A versus if you switch to Door C?"
   ]
  },
  {
   "cell_type": "code",
   "execution_count": 61,
   "metadata": {},
   "outputs": [
    {
     "name": "stdout",
     "output_type": "stream",
     "text": [
      "The probability of me winning the car if I stick with Door A is 33.33333333333333%.\n",
      "The probability of me winning the car if I switch to Door B is 66.66666666666666%.\n"
     ]
    }
   ],
   "source": [
    "priors = [1/3, 2/3]\n",
    "likelihoods = [1/2, 1/2]\n",
    "\n",
    "prob = bayes(priors, likelihoods)\n",
    "\n",
    "print(f'The probability of me winning the car if I stick with Door A is {prob[0]*100}%.')\n",
    "print(f'The probability of me winning the car if I switch to Door B is {prob[1]*100}%.')"
   ]
  },
  {
   "cell_type": "markdown",
   "metadata": {},
   "source": [
    "## 4. Bayesian Analysis \n",
    "\n",
    "Suppose you work for a landscaping company, and they want to advertise their service online. They create an ad and sit back waiting for the money to roll in. On the first day, the ad sends 100 visitors to the site and 14 of them sign up for landscaping services. Create a generative model to come up with the posterior distribution and produce a visualization of what the posterior distribution would look like given the observed data."
   ]
  },
  {
   "cell_type": "code",
   "execution_count": 62,
   "metadata": {},
   "outputs": [
    {
     "data": {
      "image/png": "[encoded data removed]",
      "text/plain": [
       "<Figure size 720x360 with 1 Axes>"
      ]
     },
     "metadata": {},
     "output_type": "display_data"
    }
   ],
   "source": [
    "n_draws=100000\n",
    "prior = pd.Series(np.random.uniform(0,1, size=n_draws))\n",
    "\n",
    "plt.figure(figsize=(10,5),facecolor='w')\n",
    "prior.hist();\n",
    "\n",
    "\n",
    "def generative_model(param):\n",
    "    # 100 bots\n",
    "    result = np.random.binomial(100, param)\n",
    "    return result\n",
    "\n",
    "\n",
    "compraron = list()\n",
    "for p in prior:\n",
    "    compraron.append(generative_model(p))\n",
    "    \n"
   ]
  },
  {
   "cell_type": "markdown",
   "metadata": {},
   "source": [
    "Produce a set of descriptive statistics for the posterior distribution."
   ]
  },
  {
   "cell_type": "code",
   "execution_count": 63,
   "metadata": {},
   "outputs": [
    {
     "data": {
      "text/plain": [
       "74       0.194362\n",
       "148      0.143428\n",
       "162      0.146756\n",
       "360      0.189212\n",
       "466      0.133357\n",
       "           ...   \n",
       "99578    0.216129\n",
       "99735    0.125325\n",
       "99806    0.203385\n",
       "99827    0.115996\n",
       "99874    0.129167\n",
       "Length: 1003, dtype: float64"
      ]
     },
     "execution_count": 63,
     "metadata": {},
     "output_type": "execute_result"
    }
   ],
   "source": [
    "# Observe que un día de 100 personas que visitaron compraron 14\n",
    "posterior = prior[list(map(lambda x: x == 14, compraron))]\n",
    "posterior"
   ]
  },
  {
   "cell_type": "markdown",
   "metadata": {},
   "source": [
    "What is the 90% credible interval range?"
   ]
  },
  {
   "cell_type": "code",
   "execution_count": null,
   "metadata": {},
   "outputs": [],
   "source": []
  },
  {
   "cell_type": "markdown",
   "metadata": {},
   "source": [
    "What is the Maximum Likelihood Estimate?"
   ]
  },
  {
   "cell_type": "code",
   "execution_count": null,
   "metadata": {},
   "outputs": [],
   "source": []
  }
 ],
 "metadata": {
  "kernelspec": {
   "display_name": "Python 3",
   "language": "python",
   "name": "python3"
  },
  "language_info": {
   "codemirror_mode": {
    "name": "ipython",
    "version": 3
   },
   "file_extension": ".py",
   "mimetype": "text/x-python",
   "name": "python",
   "nbconvert_exporter": "python",
   "pygments_lexer": "ipython3",
   "version": "3.6.7"
  }
 },
 "nbformat": 4,
 "nbformat_minor": 2
}
